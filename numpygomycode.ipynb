{
 "cells": [
  {
   "cell_type": "code",
   "execution_count": 4,
   "id": "8007969d",
   "metadata": {},
   "outputs": [
    {
     "name": "stdout",
     "output_type": "stream",
     "text": [
      "[[1 2 3]\n",
      " [4 5 6]]\n",
      "[[1, 2, 3], [4, 5, 6]]\n",
      "(0, 0) 1\n",
      "(0, 1) 2\n",
      "(0, 2) 3\n",
      "(1, 0) 4\n",
      "(1, 1) 5\n",
      "(1, 2) 6\n",
      "[1, 2, 3, 4, 5, 6]\n"
     ]
    }
   ],
   "source": [
    "#Question 1:\n",
    "#ne sachant pas la liste doit contenir les elements du tableau ou encore les Xij du tableau:\n",
    "\n",
    "import numpy as np\n",
    "liste = list() # creons une liste vide \n",
    "a = np.array([[1, 2, 3], [4, 5, 6]])# notre liste exemple pour l' exercice\n",
    "print(a)#verifions le resultat \n",
    "\n",
    "b = a.tolist() #transformer le tableau en liste \n",
    "print(b) #verifions le resultat \n",
    "# essayons maintenant de transformer tout les elements Xij du tableau en list\n",
    "for index, x in np.ndenumerate(a):#enumerons tous les elements du tableau\n",
    "    print(index, x)#verifions le resultat\n",
    "    liste.append(x)#ajoutons tous les elements à la liste vide \n",
    "print(liste)#verifions le resultat"
   ]
  },
  {
   "cell_type": "code",
   "execution_count": 5,
   "id": "1c3b3c73",
   "metadata": {},
   "outputs": [
    {
     "name": "stdout",
     "output_type": "stream",
     "text": [
      "(15,)\n",
      "[[ 0  1  2  3  4]\n",
      " [ 5  6  7  8  9]\n",
      " [10 11 12 13 14]]\n",
      "0\n",
      "6\n",
      "12\n",
      "la somme de elements de la diagonale du tableau : 18\n"
     ]
    }
   ],
   "source": [
    "#Question 2\n",
    "import numpy as np\n",
    "# creons la somme diagonale qui nous servira pour repondreà l' exercice\n",
    "sommediag = 0\n",
    "#creons le tableau unidimensionnel \n",
    "a = np.arange(0,15)\n",
    "np.shape(a)\n",
    "print(np.shape(a))#verifions le tableau\n",
    "a.shape = (3,5)#transformons en tableau bi dimensionnel \n",
    "print(a)#verifions \n",
    "for i in range(0, len(a)) :#creer une boucle nous permettant de trier les elements du tableau \n",
    "    print(a[i,i])#ecrivons tous les elements de la diagonale ou i = j\n",
    "    sommediag = sommediag + a[i,i]\n",
    "print(\"la somme de elements de la diagonale du tableau :\", sommediag)"
   ]
  },
  {
   "cell_type": "code",
   "execution_count": 9,
   "id": "9682bf70",
   "metadata": {},
   "outputs": [
    {
     "name": "stdout",
     "output_type": "stream",
     "text": [
      "les elements du tableau superieur à X\n",
      "3  l'index de l' element : (0, 3)\n",
      "4  l'index de l' element : (0, 4)\n",
      "5  l'index de l' element : (0, 5)\n",
      "6  l'index de l' element : (0, 6)\n",
      "7  l'index de l' element : (0, 7)\n",
      "8  l'index de l' element : (0, 8)\n",
      "9  l'index de l' element : (0, 9)\n",
      "10  l'index de l' element : (1, 0)\n",
      "11  l'index de l' element : (1, 1)\n",
      "12  l'index de l' element : (1, 2)\n",
      "13  l'index de l' element : (1, 3)\n",
      "14  l'index de l' element : (1, 4)\n",
      "15  l'index de l' element : (1, 5)\n",
      "16  l'index de l' element : (1, 6)\n",
      "17  l'index de l' element : (1, 7)\n",
      "18  l'index de l' element : (1, 8)\n",
      "19  l'index de l' element : (1, 9)\n",
      "20  l'index de l' element : (2, 0)\n",
      "21  l'index de l' element : (2, 1)\n",
      "22  l'index de l' element : (2, 2)\n",
      "23  l'index de l' element : (2, 3)\n",
      "24  l'index de l' element : (2, 4)\n",
      "25  l'index de l' element : (2, 5)\n",
      "26  l'index de l' element : (2, 6)\n",
      "27  l'index de l' element : (2, 7)\n",
      "28  l'index de l' element : (2, 8)\n",
      "29  l'index de l' element : (2, 9)\n",
      "30  l'index de l' element : (3, 0)\n",
      "31  l'index de l' element : (3, 1)\n",
      "32  l'index de l' element : (3, 2)\n",
      "33  l'index de l' element : (3, 3)\n",
      "34  l'index de l' element : (3, 4)\n",
      "35  l'index de l' element : (3, 5)\n",
      "36  l'index de l' element : (3, 6)\n",
      "37  l'index de l' element : (3, 7)\n",
      "38  l'index de l' element : (3, 8)\n",
      "39  l'index de l' element : (3, 9)\n",
      "40  l'index de l' element : (4, 0)\n",
      "41  l'index de l' element : (4, 1)\n",
      "42  l'index de l' element : (4, 2)\n",
      "43  l'index de l' element : (4, 3)\n",
      "44  l'index de l' element : (4, 4)\n",
      "45  l'index de l' element : (4, 5)\n",
      "46  l'index de l' element : (4, 6)\n",
      "47  l'index de l' element : (4, 7)\n",
      "48  l'index de l' element : (4, 8)\n",
      "49  l'index de l' element : (4, 9)\n",
      "50  l'index de l' element : (5, 0)\n",
      "51  l'index de l' element : (5, 1)\n",
      "52  l'index de l' element : (5, 2)\n",
      "53  l'index de l' element : (5, 3)\n",
      "54  l'index de l' element : (5, 4)\n",
      "55  l'index de l' element : (5, 5)\n",
      "56  l'index de l' element : (5, 6)\n",
      "57  l'index de l' element : (5, 7)\n",
      "58  l'index de l' element : (5, 8)\n",
      "59  l'index de l' element : (5, 9)\n",
      "60  l'index de l' element : (6, 0)\n",
      "61  l'index de l' element : (6, 1)\n",
      "62  l'index de l' element : (6, 2)\n",
      "63  l'index de l' element : (6, 3)\n",
      "64  l'index de l' element : (6, 4)\n",
      "65  l'index de l' element : (6, 5)\n",
      "66  l'index de l' element : (6, 6)\n",
      "67  l'index de l' element : (6, 7)\n",
      "68  l'index de l' element : (6, 8)\n",
      "69  l'index de l' element : (6, 9)\n",
      "70  l'index de l' element : (7, 0)\n",
      "71  l'index de l' element : (7, 1)\n",
      "72  l'index de l' element : (7, 2)\n",
      "73  l'index de l' element : (7, 3)\n",
      "74  l'index de l' element : (7, 4)\n",
      "75  l'index de l' element : (7, 5)\n",
      "76  l'index de l' element : (7, 6)\n",
      "77  l'index de l' element : (7, 7)\n",
      "78  l'index de l' element : (7, 8)\n",
      "79  l'index de l' element : (7, 9)\n",
      "80  l'index de l' element : (8, 0)\n",
      "81  l'index de l' element : (8, 1)\n",
      "82  l'index de l' element : (8, 2)\n",
      "83  l'index de l' element : (8, 3)\n",
      "84  l'index de l' element : (8, 4)\n",
      "85  l'index de l' element : (8, 5)\n",
      "86  l'index de l' element : (8, 6)\n",
      "87  l'index de l' element : (8, 7)\n",
      "88  l'index de l' element : (8, 8)\n",
      "89  l'index de l' element : (8, 9)\n",
      "90  l'index de l' element : (9, 0)\n",
      "91  l'index de l' element : (9, 1)\n",
      "92  l'index de l' element : (9, 2)\n",
      "93  l'index de l' element : (9, 3)\n",
      "94  l'index de l' element : (9, 4)\n",
      "95  l'index de l' element : (9, 5)\n",
      "96  l'index de l' element : (9, 6)\n",
      "97  l'index de l' element : (9, 7)\n",
      "98  l'index de l' element : (9, 8)\n",
      "99  l'index de l' element : (9, 9)\n",
      "les elements du tableau superieur à X\n",
      "les elements dont la valeur est superieurs à X 1 (0, 0)\n",
      "les elements dont la valeur est superieurs à X 1 (1, 0)\n",
      "les elements dont la valeur est superieurs à X 1 (2, 0)\n"
     ]
    }
   ],
   "source": [
    "#Question 3 :\n",
    "import numpy as np\n",
    "a = np.arange(0,100)#creons les tableaux à utiliser\n",
    "a.shape = (10,10)\n",
    "b = np.array([[1, 3, 3],\n",
    "                  [1, 4, 3],\n",
    "                  [1, 3, 4]])\n",
    "X = 2\n",
    "#creons les tris des elements :\n",
    "print(\"les elements du tableau superieur à X\")\n",
    "for index, x in np.ndenumerate(a):\n",
    "    if x > X :\n",
    "        print(x,\" l'index de l' element :\", index)\n",
    "print(\"les elements du tableau superieur à X\")        \n",
    "for index, g in np.ndenumerate(b):\n",
    "    if g < X :\n",
    "        print(\"les elements dont la valeur est superieurs à X\",g,index)"
   ]
  },
  {
   "cell_type": "code",
   "execution_count": 1,
   "id": "d4e07172",
   "metadata": {},
   "outputs": [
    {
     "name": "stdout",
     "output_type": "stream",
     "text": [
      "les sommes des deux matrices : [[ 4  8 -8]\n",
      " [ 6  8 20]\n",
      " [ 8 11  8]]\n"
     ]
    }
   ],
   "source": [
    "#question 4\n",
    "\n",
    "import numpy as np\n",
    "#Creons deux matrices d' egales dimensions \n",
    "A = np.array([[ 1, 1, -2 ], [-1, 2, 1], [0, 1, -1]])\n",
    "B = np.array([[ 3, 7, -6 ], [7, 6, 19], [8, 10, 9]])\n",
    "#sommons les :\n",
    "C = A+B\n",
    "print(\"les sommes des deux matrices :\", C)"
   ]
  },
  {
   "cell_type": "code",
   "execution_count": 2,
   "id": "caa4f13c",
   "metadata": {},
   "outputs": [
    {
     "name": "stdout",
     "output_type": "stream",
     "text": [
      "[[ 4  8 -8]\n",
      " [ 6  8 20]\n",
      " [ 8 11  8]]\n",
      "la moyenne de la ligne  0 du tableau 1.3333333333333333\n",
      "la moyenne de la ligne  1 du tableau 11.333333333333334\n",
      "la moyenne de la ligne  2 du tableau 9.0\n"
     ]
    }
   ],
   "source": [
    "#question 5 :\n",
    "print(C) # utilisons le tableau de l' exeercice précédent\n",
    "for i in range(0, len(C)) :# creons une boucle avec indexation \n",
    "    print(\"la moyenne de la ligne \", i+1 ,\"du tableau\", np.mean(C[i,]))# écrivons les moyennes de chaque ligne du table \n",
    "    "
   ]
  },
  {
   "cell_type": "code",
   "execution_count": null,
   "id": "c3b2101e",
   "metadata": {},
   "outputs": [],
   "source": []
  }
 ],
 "metadata": {
  "kernelspec": {
   "display_name": "Python 3 (ipykernel)",
   "language": "python",
   "name": "python3"
  },
  "language_info": {
   "codemirror_mode": {
    "name": "ipython",
    "version": 3
   },
   "file_extension": ".py",
   "mimetype": "text/x-python",
   "name": "python",
   "nbconvert_exporter": "python",
   "pygments_lexer": "ipython3",
   "version": "3.9.13"
  }
 },
 "nbformat": 4,
 "nbformat_minor": 5
}
